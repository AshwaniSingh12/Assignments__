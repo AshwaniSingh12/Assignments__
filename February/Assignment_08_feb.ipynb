{
 "cells": [
  {
   "cell_type": "markdown",
   "id": "9fad1e5c-b643-4c0a-ad5a-45a39e042371",
   "metadata": {
    "tags": []
   },
   "source": [
    "## Answer 1:\n",
    "\n",
    "Abstraction in Object-Oriented Programming (OOP) is a mechanism of hiding the internal details and showing only the necessary information to the users. \n",
    "It is a process of focusing on essential features and ignoring the non-essential details.\n"
   ]
  },
  {
   "cell_type": "markdown",
   "id": "1aafba67-ffad-4c6e-be6f-cd2e11de8b80",
   "metadata": {
    "jp-MarkdownHeadingCollapsed": true,
    "tags": []
   },
   "source": [
    "Answer 2:\n",
    "\n",
    " Abstraction refers to the ability of a software component to hide implementation details from the user and expose only the necessary information.\n",
    "The goal of abstraction is to simplify the use of a component by reducing the complexity and allowing the user to focus on what the component does rather than how it does it.\n",
    "\n",
    "\n",
    "Encapsulation refers to the bundling of data and functions that operate on that data within a single component.\n",
    "#This bundling helps to promote the concept of data hiding, as it prevents users from accessing the internal data directly and encourages them to use the interface provided by the component.\n",
    "\n",
    "\n",
    "\n",
    "consider a class in an object-oriented programming language that represents a car. The abstraction of this class would be the representation of the car as a single entity with \n",
    "specific set of behaviors (such as start, stop, drive, etc.) and properties (such as color, make, model, etc.). \n",
    "The encapsulation of this class would be the implementation of these behaviors and properties as functions and data members within the class, respectively,\n",
    " that are inaccessible directly from outside the class and can only be manipulated through the class's public interface."
   ]
  },
  {
   "cell_type": "markdown",
   "id": "329bb624-15e6-4ac3-850e-9719afb8d338",
   "metadata": {},
   "source": [
    "Answer 3:\n",
    "\n",
    "The abc (Abstract Base Class) module in Python is a module that provides support for abstract base classes.\n",
    "An abstract base class is a class that cannot be instantiated and is meant to provide a common interface for its subclasses. \n",
    "The idea behind abstract base classes is to define a set of methods that must be implemented by any concrete subclass that wants to conform to the interface defined by the abstract base class.\n",
    "The abc module provides a mechanism for defining abstract base classes in P\n",
    "\n",
    " WHY  IT IS USED\n",
    "The abc module is used in Python to enforce an interface for classes in a clear and concise manner. By using the abc module, developers can define an interface that their classes must implement,\n",
    " ensuring that the classes have the desired properties and behaviors. \n",
    "This is especially useful in large systems where many classes interact with each other, as it helps to ensure consistency and compatibility among the classes.\n",
    "     "
   ]
  },
  {
   "cell_type": "markdown",
   "id": "0bf2dff9-1d50-4a36-b6fd-f23d0304dd24",
   "metadata": {},
   "source": [
    "Answer 4:\n",
    "\n",
    "Data abstraction can be achieved by creating a logical or conceptual view of data that hides the underlying complexity of the data and only exposes relevant information to the user.\n",
    "This can be accomplished through the use of classes and objects in object-oriented programming, or by implementing data structures such as abstract data types and encapsulation. \n",
    "Additionally, data can be abstracted through the use of databases, where the data is stored in a structured way and can be accessed through a high-level interface, such as SQL.\n",
    "  "
   ]
  },
  {
   "cell_type": "markdown",
   "id": "4a5fcdc9-b57c-4ac4-a632-d406c73f36eb",
   "metadata": {},
   "source": [
    "Answer 5:\n",
    "\n",
    "No, you cannot create an instance of an abstract class. An abstract class is a class that is declared with the \"abstract\" keyword and it is intended to be used as a base class. \n",
    "It cannot be instantiated on its own, as its purpose is to provide a common interface and implementation details for its subclasses.\n",
    "In order to use an abstract class, you need to create a subclass that inherits from it and implements the abstract methods declared in the abstract class. \n",
    "  "
   ]
  },
  {
   "cell_type": "code",
   "execution_count": null,
   "id": "0c56d036-9a9b-4b67-b80c-a97bf31237bb",
   "metadata": {},
   "outputs": [],
   "source": []
  }
 ],
 "metadata": {
  "kernelspec": {
   "display_name": "Python 3 (ipykernel)",
   "language": "python",
   "name": "python3"
  },
  "language_info": {
   "codemirror_mode": {
    "name": "ipython",
    "version": 3
   },
   "file_extension": ".py",
   "mimetype": "text/x-python",
   "name": "python",
   "nbconvert_exporter": "python",
   "pygments_lexer": "ipython3",
   "version": "3.10.8"
  }
 },
 "nbformat": 4,
 "nbformat_minor": 5
}
