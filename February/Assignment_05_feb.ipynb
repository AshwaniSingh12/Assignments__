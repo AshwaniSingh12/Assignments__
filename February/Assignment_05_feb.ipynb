{
 "cells": [
  {
   "cell_type": "code",
   "execution_count": 1,
   "id": "9edb22c9-1444-438b-b15b-8e6fc604c335",
   "metadata": {},
   "outputs": [
    {
     "name": "stdout",
     "output_type": "stream",
     "text": [
      "Hello, my name is John\n",
      "I am 27 years old and live in Los Angeles\n"
     ]
    }
   ],
   "source": [
    "## Answer 1:\n",
    "\n",
    "#In Object-Oriented Programming, a Class is a blueprint for creating objects (instances of the class). It defines the properties (variables) and methods (functions) that objects of the class will have.\n",
    "\n",
    "#An Object is an instance of a class and is created from the blueprint defined in the class. Each object created from a class will have its own unique set of properties and methods,\n",
    "# and can perform the actions defined in the class methods.\n",
    "class Person:\n",
    "    def __init__(self, name, age, address):\n",
    "        self.name = name\n",
    "        self.age = age\n",
    "        self.address = address\n",
    "    def greet(self):\n",
    "        print(\"Hello, my name is \" + self.name)\n",
    "    def introduce(self):\n",
    "        print(\"I am \" + str(self.age) + \" years old and live in \" + self.address)\n",
    "person1 = Person(\"John\", 32, \"New York\")\n",
    "person2 = Person(\"Jane\", 27, \"Los Angeles\")\n",
    "person1.greet() \n",
    "person2.introduce()"
   ]
  },
  {
   "cell_type": "code",
   "execution_count": 2,
   "id": "d2d16e0a-95dd-4090-9149-884ebd4c9c70",
   "metadata": {},
   "outputs": [],
   "source": [
    "## Answer 2:\n",
    "\n",
    "#The four pillars of Object-Oriented Programming (OOP) are:\n",
    "#1:Abstraction\n",
    "#2:Encapsulation\n",
    "#3:Inheritance\n",
    "#4:Polymorphism"
   ]
  },
  {
   "cell_type": "code",
   "execution_count": 5,
   "id": "bd420369-e10b-412d-a542-74548e8ebf3c",
   "metadata": {},
   "outputs": [
    {
     "data": {
      "text/plain": [
       "' Here self is the object that is being created and parameter1 ,parameter2 is the parameter \\n    which is passed to the constructor during the creation of object.\\n'"
      ]
     },
     "execution_count": 5,
     "metadata": {},
     "output_type": "execute_result"
    }
   ],
   "source": [
    "## Answer 3:\n",
    "#The __init__() function, also known as the constructor, is used to initialize the objects of a class. \n",
    "#It is automatically called when an object of the class is created, and it sets the initial values of the object's properties.\n",
    "def __init__(self, parameter1, parameter2):\n",
    "    self.property1 = parameter1\n",
    "    self.property2 = parameter2\n",
    "\"\"\" Here self is the object that is being created and parameter1 ,parameter2 is the parameter \n",
    "    which is passed to the constructor during the creation of object.\n",
    "\"\"\" "
   ]
  },
  {
   "cell_type": "code",
   "execution_count": 6,
   "id": "80df1c1e-1134-4ebe-a785-e0d01f55b777",
   "metadata": {},
   "outputs": [],
   "source": [
    "## Answer 4:\n",
    "\n",
    "#In Object-Oriented Programming (OOP), the self keyword is used as a reference to the current instance of an object. \n",
    "#It is used to access the attributes and methods of the current object within a class. "
   ]
  },
  {
   "cell_type": "code",
   "execution_count": null,
   "id": "d6e7e12b-a61c-491e-858e-17aff90cce3d",
   "metadata": {},
   "outputs": [],
   "source": [
    "## Answer 5:\n",
    "\n",
    "# Inheritance is a mechanism in object-oriented programming (OOP) that allows a new class to be created based on an existing class, inheriting its properties and behaviors. There are several types of inheritance in OOP:\n",
    "#Single inheritance: A class inherits from a single parent class. Example: A \"Bird\" class inherits properties and behaviors from an \"Animal\" class.\n",
    "\n",
    "#Multiple inheritance: A class inherits from multiple parent classes.\n",
    "#Example: A \"Penguin\" class could inherit properties and behaviors from both a \"Bird\" class and a \"Fish\" class.\n",
    "\n",
    "#Hierarchical inheritance: A class inherits from a single parent class, and the parent class can have multiple child classes. \n",
    "#Example: A \"Duck\" class and a \"Goose\" class both inherit properties and behaviors from a \"Bird\" class.\n",
    "\n",
    "#Hybrid inheritance: A combination of multiple inheritance and hierarchical inheritance.\n",
    "#Example: A \"Parrot\" class inherits properties and behaviors from both a \"Bird\" class and a \"Mammal\" class, and the \"Bird\" class is also a parent class to other bird classes.\n",
    "     "
   ]
  }
 ],
 "metadata": {
  "kernelspec": {
   "display_name": "Python 3 (ipykernel)",
   "language": "python",
   "name": "python3"
  },
  "language_info": {
   "codemirror_mode": {
    "name": "ipython",
    "version": 3
   },
   "file_extension": ".py",
   "mimetype": "text/x-python",
   "name": "python",
   "nbconvert_exporter": "python",
   "pygments_lexer": "ipython3",
   "version": "3.10.8"
  }
 },
 "nbformat": 4,
 "nbformat_minor": 5
}
