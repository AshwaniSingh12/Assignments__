{
 "cells": [
  {
   "cell_type": "code",
   "execution_count": 1,
   "id": "9c508688-4ca5-40c7-a6df-91afc0b91e72",
   "metadata": {},
   "outputs": [
    {
     "name": "stdout",
     "output_type": "stream",
     "text": [
      "[1, 3, 5, 7, 9, 11, 13, 15, 17, 19, 21, 23, 25]\n"
     ]
    }
   ],
   "source": [
    "## Answer 1:\n",
    "## \"def\" Keyword is used to create a function .\n",
    "l = []\n",
    "def odd(x):\n",
    "    if(x%2!=0):\n",
    "        l.append(x)\n",
    "for i in range(1,26):\n",
    "    odd(i)\n",
    "print(l)"
   ]
  },
  {
   "cell_type": "code",
   "execution_count": 2,
   "id": "c0180d77-8a80-45d3-bf3c-e5e6d210da18",
   "metadata": {},
   "outputs": [
    {
     "name": "stdout",
     "output_type": "stream",
     "text": [
      "use of *args \n",
      "Sum: 8\n",
      "Sum: 22\n",
      "Sum: 17\n",
      "\n",
      "\n",
      "use of *kwargs \n",
      "\n",
      "Data type of argument: <class 'dict'>\n",
      "Firstname is Sita\n",
      "Lastname is Sharma\n",
      "Age is 22\n",
      "Phone is 1234567890\n"
     ]
    }
   ],
   "source": [
    "## Answer 2:\n",
    "\"\"\"\n",
    " We use *args and **kwargs as an argument when we are unsure about the number of arguments to pass in the functions.\n",
    "\"\"\"\n",
    "print(\"use of *args \")\n",
    "def adder(*args):\n",
    "    sum = 0\n",
    "    \n",
    "    for n in args:\n",
    "        sum = sum + n\n",
    "\n",
    "    print(\"Sum:\",sum)\n",
    "\n",
    "adder(3,5)\n",
    "adder(4,5,6,7)\n",
    "adder(1,2,3,5,6)\n",
    "print(\"\\n\")\n",
    "print(\"use of *kwargs \")\n",
    "def intro(**kwargs):\n",
    "    print(\"\\nData type of argument:\",type(kwargs))\n",
    "\n",
    "    for key, value in kwargs.items():\n",
    "        print(\"{} is {}\".format(key,value))\n",
    "\n",
    "intro(Firstname=\"Sita\", Lastname=\"Sharma\", Age=22, Phone=1234567890)\n",
    " "
   ]
  },
  {
   "cell_type": "code",
   "execution_count": 3,
   "id": "4a1f173a-6438-4f69-a945-84a8f5165c14",
   "metadata": {},
   "outputs": [
    {
     "name": "stdout",
     "output_type": "stream",
     "text": [
      "First five elements:\n",
      "2\n",
      "4\n",
      "6\n",
      "8\n",
      "10\n"
     ]
    }
   ],
   "source": [
    "## Answer 3:\n",
    "\"\"\"\n",
    "    An iterator is an object that contains a countable number of values. \n",
    "    An iterator is an object that can be iterated upon, meaning that you can traverse through all the values. \n",
    "\"\"\"\n",
    "## Iterators in Python :\n",
    "\"\"\" \n",
    "    1. __iter__(): The iter() method is called for the initialization of an iterator. This returns an iterator object.\n",
    "    2. __next__(): The next method returns the next value for the iterable. When we use a for loop to traverse any iterable object, \n",
    "                   internally it uses the iter() method to get an iterator object, which further uses the next() method to iterate over. \n",
    "                   This method raises a StopIteration to signal the end of the iteration.\n",
    "\"\"\"\n",
    "list = [2, 4, 6, 8, 10, 12, 14, 16, 18, 20]\n",
    "\n",
    "\n",
    "list_iterator = iter(list)\n",
    "\n",
    "print(\"First five elements:\")\n",
    "for i in range(5):\n",
    "    print(next(list_iterator))\n"
   ]
  },
  {
   "cell_type": "code",
   "execution_count": 4,
   "id": "c591b063-8af2-492d-b9e6-c88fc4a5c629",
   "metadata": {},
   "outputs": [
    {
     "data": {
      "text/plain": [
       "\"\\n    A generator function in Python is a special type of function that uses the yield keyword instead of return to return values.\\n    When a generator function is called, it returns a generator object, which can be iterated over using a for loop or the next function.\\n    \\n    Yield Keywords:\\n                   The yield keyword allows the generator function to produce a value and then pause execution,\\n                   preserving its state so that it can resume where it left off the next time it's called.\\n\""
      ]
     },
     "execution_count": 4,
     "metadata": {},
     "output_type": "execute_result"
    }
   ],
   "source": [
    "## Answer 5:\n",
    "\"\"\"\n",
    "    A generator function in Python is a special type of function that uses the yield keyword instead of return to return values.\n",
    "    When a generator function is called, it returns a generator object, which can be iterated over using a for loop or the next function.\n",
    "    \n",
    "    Yield Keywords:\n",
    "                   The yield keyword allows the generator function to produce a value and then pause execution,\n",
    "                   preserving its state so that it can resume where it left off the next time it's called.\n",
    "\"\"\"\n",
    "\n"
   ]
  },
  {
   "cell_type": "code",
   "execution_count": 5,
   "id": "e3b79c6f-f765-43ae-a322-f7181172822f",
   "metadata": {},
   "outputs": [
    {
     "name": "stdout",
     "output_type": "stream",
     "text": [
      "First 20 prime numbers:\n",
      "2\n",
      "3\n",
      "5\n",
      "7\n",
      "11\n",
      "13\n",
      "17\n",
      "19\n",
      "23\n",
      "29\n",
      "31\n",
      "37\n",
      "41\n",
      "43\n",
      "47\n",
      "53\n",
      "59\n",
      "61\n",
      "67\n",
      "71\n"
     ]
    }
   ],
   "source": [
    "## Answer 5:\n",
    "\n",
    "def prime_numbers():\n",
    "    yield 2\n",
    "    primes = [2]\n",
    "    num = 3\n",
    "    while num < 1000:\n",
    "        is_prime = True\n",
    "        for prime in primes:\n",
    "            if num % prime == 0:\n",
    "                is_prime = False\n",
    "                break\n",
    "        if is_prime:\n",
    "            primes.append(num)\n",
    "            yield num\n",
    "        num += 2\n",
    "primes_gen = prime_numbers()\n",
    "print(\"First 20 prime numbers:\")\n",
    "for i in range(20):\n",
    "    print(next(primes_gen))"
   ]
  },
  {
   "cell_type": "code",
   "execution_count": 6,
   "id": "cd82d928-f494-4e1c-8fe9-95cc28ea5316",
   "metadata": {},
   "outputs": [
    {
     "name": "stdout",
     "output_type": "stream",
     "text": [
      "First 10 Fibonacci numbers:\n",
      "0\n",
      "1\n",
      "1\n",
      "2\n",
      "3\n",
      "5\n",
      "8\n",
      "13\n",
      "21\n",
      "34\n"
     ]
    }
   ],
   "source": [
    "## Answer 6:\n",
    "def fibonacci_numbers(n):\n",
    "    a, b = 0, 1\n",
    "    count = 0\n",
    "    while count < n:\n",
    "        yield a\n",
    "        a, b = b, a + b\n",
    "        count += 1\n",
    "\n",
    "print(\"First 10 Fibonacci numbers:\")\n",
    "for num in fibonacci_numbers(10):\n",
    "    print(num)"
   ]
  },
  {
   "cell_type": "code",
   "execution_count": 7,
   "id": "4ae6a4e7-0c1f-4db8-ab3d-465207361fee",
   "metadata": {},
   "outputs": [
    {
     "name": "stdout",
     "output_type": "stream",
     "text": [
      "['p', 'w', 's', 'k', 'i', 'l', 'l', 's']\n"
     ]
    }
   ],
   "source": [
    "## Answer 7:\n",
    "string = 'pwskills'\n",
    "result = [char for char in string]\n",
    "print(result)"
   ]
  },
  {
   "cell_type": "code",
   "execution_count": 12,
   "id": "014c5156-330f-490b-801d-a3c525298728",
   "metadata": {},
   "outputs": [
    {
     "name": "stdin",
     "output_type": "stream",
     "text": [
      "Enter a number: 121\n"
     ]
    },
    {
     "name": "stdout",
     "output_type": "stream",
     "text": [
      "Given number  121 is palindrome!\n"
     ]
    }
   ],
   "source": [
    "## Answer 8:\n",
    "\n",
    "num = int(input(\"Enter a number:\"))\n",
    "temp = num\n",
    "rev = 0\n",
    "while(num != 0):\n",
    "    dig = num % 10\n",
    "    rev = rev * 10 + dig\n",
    "    num = num // 10\n",
    "if(temp == rev):\n",
    "    print(\"Given number \" , temp , \"is palindrome!\")\n",
    "else:\n",
    "    print(\"Given number \" , temp , \"not a palindrome!\")"
   ]
  },
  {
   "cell_type": "code",
   "execution_count": 13,
   "id": "b0d6d88b-c2ff-43eb-8ccb-f99f4706b4b6",
   "metadata": {},
   "outputs": [
    {
     "name": "stdout",
     "output_type": "stream",
     "text": [
      "[1, 3, 5, 7, 9, 11, 13, 15, 17, 19, 21, 23, 25, 27, 29, 31, 33, 35, 37, 39, 41, 43, 45, 47, 49, 51, 53, 55, 57, 59, 61, 63, 65, 67, 69, 71, 73, 75, 77, 79, 81, 83, 85, 87, 89, 91, 93, 95, 97, 99]\n"
     ]
    }
   ],
   "source": [
    "odd_numbers = [num for num in range(1, 101) if num % 2 != 0]\n",
    "print(odd_numbers)"
   ]
  },
  {
   "cell_type": "code",
   "execution_count": null,
   "id": "1ed89a3b-95db-4ce2-a72e-e558a0b96b37",
   "metadata": {},
   "outputs": [],
   "source": []
  }
 ],
 "metadata": {
  "kernelspec": {
   "display_name": "Python 3 (ipykernel)",
   "language": "python",
   "name": "python3"
  },
  "language_info": {
   "codemirror_mode": {
    "name": "ipython",
    "version": 3
   },
   "file_extension": ".py",
   "mimetype": "text/x-python",
   "name": "python",
   "nbconvert_exporter": "python",
   "pygments_lexer": "ipython3",
   "version": "3.10.8"
  }
 },
 "nbformat": 4,
 "nbformat_minor": 5
}
