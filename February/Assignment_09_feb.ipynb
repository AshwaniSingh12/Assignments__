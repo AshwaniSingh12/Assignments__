{
 "cells": [
  {
   "cell_type": "code",
   "execution_count": 2,
   "id": "48682453-6ba9-4fc6-8ee9-4bd2c2aa7fa4",
   "metadata": {},
   "outputs": [
    {
     "name": "stdout",
     "output_type": "stream",
     "text": [
      "Apache\n",
      "150\n",
      "35\n"
     ]
    }
   ],
   "source": [
    "## Answer 1:\n",
    "\n",
    "class Vehicle:\n",
    "    def __init__(self, name_of_vehicle, max_speed, average_of_vehicle):\n",
    "        self.name_of_vehicle = name_of_vehicle\n",
    "        self.max_speed = max_speed\n",
    "        self.average_of_vehicle = average_of_vehicle\n",
    "car = Vehicle(\"Apache\", 150, 35)\n",
    "print(car.name_of_vehicle)\n",
    "print(car.max_speed)\n",
    "print(car.average_of_vehicle)\n"
   ]
  },
  {
   "cell_type": "code",
   "execution_count": 4,
   "id": "126d6292-b396-47db-8d52-126dae3e51dd",
   "metadata": {},
   "outputs": [
    {
     "name": "stdout",
     "output_type": "stream",
     "text": [
      "NAME:  Thar\n",
      "Seating capacity : 4\n"
     ]
    }
   ],
   "source": [
    "## Answer 2:\n",
    "\n",
    "class Car(Vehicle):\n",
    "    def seating_capacity(self, capacity):\n",
    "        self.capacity=capacity\n",
    "    def detail(self):\n",
    "      print(\"NAME: \",self.name_of_vehicle)\n",
    "      print(\"Seating capacity :\",self.capacity)\n",
    "my_car = Car(\"Thar\", 160, 25)\n",
    "\n",
    "my_car.seating_capacity(4)\n",
    "\n",
    "my_car.detail()\n"
   ]
  },
  {
   "cell_type": "code",
   "execution_count": 5,
   "id": "6af53ca6-cb98-4fcf-a4cf-16a51f6042c7",
   "metadata": {},
   "outputs": [],
   "source": [
    "## Answer 3:\n",
    "\n",
    "class ParentA:\n",
    "  def test1(self):\n",
    "    print(\"Parent Class A:\")\n",
    "\n",
    "class ParentB:\n",
    "  def test2(self):\n",
    "    print(\"Parent Class B:\")\n",
    "\n",
    "class Child(ParentA,ParentB):\n",
    "  def test3(self):\n",
    "    print(\"Child Class:\")"
   ]
  },
  {
   "cell_type": "code",
   "execution_count": 6,
   "id": "905c282a-31ee-434b-b34b-22031b5af9df",
   "metadata": {},
   "outputs": [
    {
     "name": "stdout",
     "output_type": "stream",
     "text": [
      "Child Class:\n"
     ]
    }
   ],
   "source": [
    "\n",
    "obj_child = Child()\n",
    "     \n",
    "\n",
    "obj_child.test3()"
   ]
  },
  {
   "cell_type": "code",
   "execution_count": 7,
   "id": "416f5161-54b2-478e-9f9f-83f60e5cb1b6",
   "metadata": {},
   "outputs": [
    {
     "name": "stdout",
     "output_type": "stream",
     "text": [
      "Parent Class A:\n",
      "Parent Class B:\n"
     ]
    }
   ],
   "source": [
    "obj_child.test1()\n",
    "     \n",
    "obj_child.test2()\n",
    "     "
   ]
  },
  {
   "cell_type": "markdown",
   "id": "fb8d762e-1237-4608-9e06-7353dfb8f8d7",
   "metadata": {},
   "source": [
    "## Answer 4:\n",
    "The main purpose of using getters and setters in object-oriented programs is to ensure data encapsulation. Private variables in python are not actually hidden fields like in other object oriented languages. Getters and Setters in python are often used when:\n",
    "\n",
    "We use getters & setters to add validation logic around getting and setting a value.\n",
    "\n",
    "To avoid direct access of a class field i.e. private variables cannot be accessed directly or modified by external user.\n",
    "\n"
   ]
  },
  {
   "cell_type": "code",
   "execution_count": 8,
   "id": "5b4963ca-08e1-4644-9b43-7bc8516f91d5",
   "metadata": {},
   "outputs": [],
   "source": [
    "\n",
    "class Student:\n",
    "  def __init__(self,name,age=0,id=0):\n",
    "    self.id = id\n",
    "    self.__name = name\n",
    "    self.__age = age\n",
    "#setter function\n",
    "  def set_age(self,a):\n",
    "    self.__age = a\n",
    "  def set_name(self,n):\n",
    "    self.__name = n\n",
    "\n",
    "#getter function\n",
    "  def get_age(self):\n",
    "    return self.__age\n",
    "\n",
    "  def get_name(self):\n",
    "    return self.__name"
   ]
  },
  {
   "cell_type": "code",
   "execution_count": 9,
   "id": "206059dd-93ca-4a09-84e7-cfe3b20e1370",
   "metadata": {},
   "outputs": [
    {
     "data": {
      "text/plain": [
       "23451"
      ]
     },
     "execution_count": 9,
     "metadata": {},
     "output_type": "execute_result"
    }
   ],
   "source": [
    "\n",
    "obj_stu = Student('Siddhant',19,23451)\n",
    "\n",
    "obj_stu.id"
   ]
  },
  {
   "cell_type": "markdown",
   "id": "9844e35a-03af-4722-8c45-b901a5a80a3c",
   "metadata": {},
   "source": [
    "Answer 5:\n",
    "\n",
    "Method overriding is an ability of any object-oriented programming language that allows a subclass or child class to provide a specific implementation of a method that is already provided by one of its super-classes or parent classes. When a method in a subclass has the same name, same parameters or signature and same return type(or sub-type) as a method in its super-class, then the method in the subclass is said to override the method in the super-class."
   ]
  },
  {
   "cell_type": "code",
   "execution_count": 10,
   "id": "7abc666a-2e7a-4369-b234-3f9e7edfb057",
   "metadata": {},
   "outputs": [],
   "source": [
    "\n",
    "\n",
    "class Parent:\n",
    "  def __init__(self,n):\n",
    "    self.value = n\n",
    "  \n",
    "  def cal(self):\n",
    "    return self.value + 2\n",
    "\n",
    "class Child:\n",
    "  def __init__(self,n):\n",
    "    self.value = n\n",
    "\n",
    "  def cal(self):\n",
    "    return self.value * 2"
   ]
  },
  {
   "cell_type": "code",
   "execution_count": 11,
   "id": "89a781e8-1317-45b3-b188-bd255a645dff",
   "metadata": {},
   "outputs": [
    {
     "data": {
      "text/plain": [
       "12"
      ]
     },
     "execution_count": 11,
     "metadata": {},
     "output_type": "execute_result"
    }
   ],
   "source": [
    "\n",
    "obj_parent = Parent(10)\n",
    "obj_parent.cal()\n",
    "     "
   ]
  },
  {
   "cell_type": "code",
   "execution_count": null,
   "id": "fe652ebc-166c-4d40-b048-4d80a2757d28",
   "metadata": {},
   "outputs": [],
   "source": []
  }
 ],
 "metadata": {
  "kernelspec": {
   "display_name": "Python 3 (ipykernel)",
   "language": "python",
   "name": "python3"
  },
  "language_info": {
   "codemirror_mode": {
    "name": "ipython",
    "version": 3
   },
   "file_extension": ".py",
   "mimetype": "text/x-python",
   "name": "python",
   "nbconvert_exporter": "python",
   "pygments_lexer": "ipython3",
   "version": "3.10.8"
  }
 },
 "nbformat": 4,
 "nbformat_minor": 5
}
