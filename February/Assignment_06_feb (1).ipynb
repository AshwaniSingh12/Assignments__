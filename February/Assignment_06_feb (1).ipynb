{
 "cells": [
  {
   "cell_type": "code",
   "execution_count": 2,
   "id": "ca24f7e9-7e4d-4d31-bd37-406095a1bdf0",
   "metadata": {},
   "outputs": [
    {
     "name": "stdout",
     "output_type": "stream",
     "text": [
      "4134711838987085478833841242112000\n"
     ]
    }
   ],
   "source": [
    "## Answer 1:\n",
    "\n",
    "def flatten(list1):\n",
    "    flattened_list = []\n",
    "    for item in list1:\n",
    "        if isinstance(item, (list, tuple, set)):\n",
    "            flattened_list.extend(flatten(item))\n",
    "        elif isinstance(item, dict):\n",
    "            for key, value in item.items():\n",
    "                flattened_list.extend(flatten([key, value]))\n",
    "        else:\n",
    "            flattened_list.append(item)\n",
    "    return flattened_list\n",
    "\n",
    "l = [1,2,3,4, [44,55,66, True], False, (34,56,78,89,34), {1,2,3,3,2,1}, {1:34, \n",
    "         \"key2\": [55, 67, 78, 89], 4: (45,22, 61, 34)}, [56, 'data science'], 'Machine Learning']\n",
    "l1 =  flatten(l)\n",
    "result = 1\n",
    "for n in l1:\n",
    "    if type(n) == int:\n",
    "      result *= n\n",
    "print(result)"
   ]
  },
  {
   "cell_type": "code",
   "execution_count": 3,
   "id": "3b14108b-40e5-4ae5-8cfe-f1b980cc44f8",
   "metadata": {},
   "outputs": [
    {
     "name": "stdout",
     "output_type": "stream",
     "text": [
      "r$dzmg$gl$yvxlnv$z$wzgz$hxrvmgrhg.\n"
     ]
    }
   ],
   "source": [
    "## Answer 2:\n",
    "\n",
    "def encrypt_sentence(sentence):\n",
    "    encrypted_sentence = \"\"\n",
    "    for i in sentence:\n",
    "      if (i.islower()):\n",
    "        encrypted_sentence +=chr(ord('z') - ord(i) + ord('a'))\n",
    "      elif (i == \" \"):\n",
    "        encrypted_sentence += \"$\"\n",
    "      else:\n",
    "        encrypted_sentence += i\n",
    "    return encrypted_sentence\n",
    "input_sentence = \"I want to become a Data Scientist.\"\n",
    "input_sentence = input_sentence.lower()\n",
    "print(encrypt_sentence(input_sentence)) "
   ]
  },
  {
   "cell_type": "code",
   "execution_count": null,
   "id": "88a0c72e-9b04-42e0-8e8d-a624ff112336",
   "metadata": {},
   "outputs": [],
   "source": []
  }
 ],
 "metadata": {
  "kernelspec": {
   "display_name": "Python 3 (ipykernel)",
   "language": "python",
   "name": "python3"
  },
  "language_info": {
   "codemirror_mode": {
    "name": "ipython",
    "version": 3
   },
   "file_extension": ".py",
   "mimetype": "text/x-python",
   "name": "python",
   "nbconvert_exporter": "python",
   "pygments_lexer": "ipython3",
   "version": "3.10.8"
  }
 },
 "nbformat": 4,
 "nbformat_minor": 5
}
