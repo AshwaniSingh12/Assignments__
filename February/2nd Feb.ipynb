{
 "cells": [
  {
   "cell_type": "code",
   "execution_count": 1,
   "id": "11c741d4-aea5-4285-881d-8ef1931b0d7c",
   "metadata": {},
   "outputs": [
    {
     "data": {
      "text/plain": [
       "\"\\n        For loop :\\n                     \\n                     The initialization, condition checking, and the iteration statements are written at the beginning of the loop.\\n\\n                     It is used only when the number of iterations is known beforehand.\\n\\n                     If the condition is not mentioned in the 'for' loop, then the loop iterates infinite number of times.\\n\\n                     The initialization is done only once, and it is never repeated.\\n\\n                     The iteration statement is written at the beginning.\\n\\n                     Hence, it executes once all statements in loop have been executed.\\n                     \\n                     Example :\\n                           for(initialization; condition; iteration){\\n                               //body of the 'for' loop\\n                           }\\n                     \\n         While loop : \\n         \\n                     The initialization and the condition checking is done at the beginning of the loop.\\n\\n                     It is used only when the number of iterations isn’t known.\\n\\n                     If the condition is not mentioned in the 'while' loop, it results in a compilation error.\\n\\n                     If the initialization is done when the condition is being checked, then initialization occurs every time the loop is iterated through.\\n\\n                     The iteration statement can be written within any point inside the loop.\\n                    \\n                    Example :\\n                    while ( condition) {\\n                           statements;\\n                           //body of the loop\\n                    }\\n                    \\n\""
      ]
     },
     "execution_count": 1,
     "metadata": {},
     "output_type": "execute_result"
    }
   ],
   "source": [
    "## Answer 1:\n",
    "'''\n",
    "        For loop :\n",
    "                     \n",
    "                     The initialization, condition checking, and the iteration statements are written at the beginning of the loop.\n",
    "\n",
    "                     It is used only when the number of iterations is known beforehand.\n",
    "\n",
    "                     If the condition is not mentioned in the 'for' loop, then the loop iterates infinite number of times.\n",
    "\n",
    "                     The initialization is done only once, and it is never repeated.\n",
    "\n",
    "                     The iteration statement is written at the beginning.\n",
    "\n",
    "                     Hence, it executes once all statements in loop have been executed.\n",
    "                     \n",
    "                     Example :\n",
    "                           for(initialization; condition; iteration){\n",
    "                               //body of the 'for' loop\n",
    "                           }\n",
    "                     \n",
    "         While loop : \n",
    "         \n",
    "                     The initialization and the condition checking is done at the beginning of the loop.\n",
    "\n",
    "                     It is used only when the number of iterations isn’t known.\n",
    "\n",
    "                     If the condition is not mentioned in the 'while' loop, it results in a compilation error.\n",
    "\n",
    "                     If the initialization is done when the condition is being checked, then initialization occurs every time the loop is iterated through.\n",
    "\n",
    "                     The iteration statement can be written within any point inside the loop.\n",
    "                    \n",
    "                    Example :\n",
    "                    while ( condition) {\n",
    "                           statements;\n",
    "                           //body of the loop\n",
    "                    }\n",
    "                    \n",
    "'''"
   ]
  },
  {
   "cell_type": "code",
   "execution_count": 2,
   "id": "476daf1e-0d88-4031-912a-3959a8c58dd7",
   "metadata": {},
   "outputs": [
    {
     "name": "stdout",
     "output_type": "stream",
     "text": [
      "Sum of first 10 numbers :  55\n",
      "Product of first 10 numbers :  3628800\n"
     ]
    }
   ],
   "source": [
    "## Answer 2:\n",
    "## For Loop\n",
    "s = 0\n",
    "m = 1 \n",
    "for i in range (1,11):\n",
    "    s = s+i\n",
    "    m = m*i\n",
    "print(\"Sum of first 10 numbers : \" , s)\n",
    "print(\"Product of first 10 numbers : \" , m)\n",
    "## while Loop \n",
    "S = 0\n",
    "M = 1\n",
    "i = 1\n",
    "while(i<11):\n",
    "    S+=i\n",
    "    M*=i\n",
    "\n",
    "print(\"Sum of first 10 numbers : \" , S)\n",
    "print(\"Product of first 10 numbers : \" , M)"
   ]
  },
  {
   "cell_type": "code",
   "execution_count": null,
   "id": "bcf60b4b-3418-4fd2-9374-eb15c4748071",
   "metadata": {},
   "outputs": [],
   "source": [
    "## Answer 3:\n",
    "unit = int(input(\"Enter the per month electricity consume unit : \" ))\n",
    "charge = 0\n",
    "if(unit <= 100) :\n",
    "\tcharge = unit * 4.5 \n",
    "elif(unit>100 && unit<=200):\n",
    "\tcharge = 100*4.5 + ((unit - 100) * 6)\n",
    "elif(unit>200 && unit<=300):\n",
    "\tcharge = 100*4.5 + 100*6 + ((unit - 200) * 10)\n",
    "elif(unit>300):\n",
    "\tcharge = 100*4.5 + 100*6 + 100*10 + ((unit - 300) * 20)\n",
    "print(\"Your total bill is : \" , charge)"
   ]
  },
  {
   "cell_type": "code",
   "execution_count": null,
   "id": "c90cfbd5-0c6d-44b7-afeb-c0283e802006",
   "metadata": {},
   "outputs": [],
   "source": [
    "## Answer 4 :\n",
    "l = []\n",
    "l1 = []\n",
    "for i in range (1,101) :\n",
    "\tl.append(i)\n",
    "print(l)\n",
    "i = 1\n",
    "while(i<101):\n",
    "    i = i*i*i\n",
    "    if(i%4==0 or i%5 == 0):\n",
    "        l1.append(i)\n",
    "print(l1)"
   ]
  },
  {
   "cell_type": "code",
   "execution_count": null,
   "id": "b97c1be0-631d-43fe-85c8-0be70f02f2c8",
   "metadata": {},
   "outputs": [],
   "source": [
    "## Answer 5:\n",
    "s = \"I want to become a data scientist\"\n",
    "count = 0\n",
    "for i in range(len(s)):\n",
    "    if(s[i] == 'a' or s[i] == 'e' or s[i] == 'i' or s[i] == 'o' or s[i] == 'u' or s[i] == 'A' or s[i] == 'E' or s[i] == 'I' or s[i] == 'O' or s[i] == 'U'):\n",
    "        count+=1\n",
    "print(\"Total number of vowels in given string are : \" , count)"
   ]
  },
  {
   "cell_type": "code",
   "execution_count": null,
   "id": "ca796e99-590b-4dc2-ab5b-ffa2faab3e90",
   "metadata": {},
   "outputs": [],
   "source": []
  }
 ],
 "metadata": {
  "kernelspec": {
   "display_name": "Python 3 (ipykernel)",
   "language": "python",
   "name": "python3"
  },
  "language_info": {
   "codemirror_mode": {
    "name": "ipython",
    "version": 3
   },
   "file_extension": ".py",
   "mimetype": "text/x-python",
   "name": "python",
   "nbconvert_exporter": "python",
   "pygments_lexer": "ipython3",
   "version": "3.10.8"
  }
 },
 "nbformat": 4,
 "nbformat_minor": 5
}
