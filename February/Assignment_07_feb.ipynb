{
 "cells": [
  {
   "cell_type": "code",
   "execution_count": 3,
   "id": "b876580e-82f5-486b-b7c0-6c010edb9400",
   "metadata": {},
   "outputs": [
    {
     "name": "stdin",
     "output_type": "stream",
     "text": [
      "Enter password AA@#$hsy6hdy\n"
     ]
    },
    {
     "name": "stdout",
     "output_type": "stream",
     "text": [
      "VALID PASSWORD\n"
     ]
    }
   ],
   "source": [
    "## Answer 1:\n",
    "\n",
    "password = input(\"Enter password\")\n",
    "uppercase=0\n",
    "lowercase=0\n",
    "special=0\n",
    "number=0\n",
    "for i in password:\n",
    "  if i.isupper():\n",
    "    uppercase+=1\n",
    "  elif i.islower():\n",
    "    lowercase+=1\n",
    "  elif i.isnumeric():\n",
    "    number+=1\n",
    "  else:\n",
    "    special+=1\n",
    "\n",
    "if (len(password)>=10 and uppercase>=2 and lowercase>=2 and number>=1 and special>=3 ):\n",
    "  print(\"VALID PASSWORD\")\n",
    "else:\n",
    "  print(\"INVALID PASSWORD\") "
   ]
  },
  {
   "cell_type": "markdown",
   "id": "49d95971-20b7-4ee4-8289-8bf69032dc3d",
   "metadata": {},
   "source": [
    "Answer 2\n",
    "Check if the string starts with a particular letter."
   ]
  },
  {
   "cell_type": "code",
   "execution_count": 4,
   "id": "b9f04964-3ebe-408f-a7eb-de8c4c5e54c5",
   "metadata": {},
   "outputs": [
    {
     "name": "stdout",
     "output_type": "stream",
     "text": [
      "True\n",
      "False\n"
     ]
    }
   ],
   "source": [
    "\n",
    "#lambda function\n",
    "startsWith = lambda x: True if x.startswith('A') else False\n",
    "print(startsWith('Apple'))\n",
    "print(startsWith('Orange'))"
   ]
  },
  {
   "cell_type": "markdown",
   "id": "80f1eb3e-e643-4c28-8560-88f945ca5048",
   "metadata": {},
   "source": [
    "Check if the string is numeric."
   ]
  },
  {
   "cell_type": "code",
   "execution_count": 5,
   "id": "b48f49f2-9a50-494c-92f2-2f765831572b",
   "metadata": {},
   "outputs": [
    {
     "name": "stdout",
     "output_type": "stream",
     "text": [
      "True\n",
      "False\n"
     ]
    }
   ],
   "source": [
    "#lambda function\n",
    "isNumeric = lambda x:True if x.isdigit() else False\n",
    "print(isNumeric('123456'))\n",
    "print(isNumeric('123Abc'))"
   ]
  },
  {
   "cell_type": "markdown",
   "id": "689ac66a-60c3-426b-9862-694d10e851a4",
   "metadata": {},
   "source": [
    "Sort a list of tuples having fruit names and their quantity. [(\"mango\",99),(\"orange\",80), (\"grapes\", 1000)]"
   ]
  },
  {
   "cell_type": "code",
   "execution_count": 6,
   "id": "68f93827-cc70-4959-b2de-7c80a975a0cd",
   "metadata": {},
   "outputs": [
    {
     "name": "stdout",
     "output_type": "stream",
     "text": [
      "[('orange', 80), ('mango', 99), ('grapes', 1000)]\n",
      "['orange', 'mango', 'grapes']\n"
     ]
    }
   ],
   "source": [
    "# map function\n",
    "fruits = [(\"mango\", 99), (\"orange\", 80), (\"grapes\", 1000)]\n",
    "sorted_fruits = sorted(fruits, key=lambda x: x[1])\n",
    "print(sorted_fruits)\n",
    "result = list(map(lambda x: x[0], sorted_fruits))\n",
    "print(result)\n"
   ]
  },
  {
   "cell_type": "markdown",
   "id": "1068a5db-794c-450b-b321-db9ca8d4fcb4",
   "metadata": {},
   "source": [
    "Find the squares of numbers from 1 to 10."
   ]
  },
  {
   "cell_type": "code",
   "execution_count": 7,
   "id": "a964572a-1e65-403a-87b7-88811b09effc",
   "metadata": {},
   "outputs": [
    {
     "name": "stdout",
     "output_type": "stream",
     "text": [
      "[1, 4, 9, 16, 25, 36, 49, 64, 81, 100]\n"
     ]
    }
   ],
   "source": [
    "\n",
    "# List Comprehension\n",
    "squareNumber = [i*i for i in range(1,11)]\n",
    "print(squareNumber)\n",
    "     "
   ]
  },
  {
   "cell_type": "markdown",
   "id": "578044af-1552-4597-85c3-9974bc5fc357",
   "metadata": {},
   "source": [
    "Find the cube root of numbers from 1 to 10."
   ]
  },
  {
   "cell_type": "code",
   "execution_count": 8,
   "id": "645821a0-2f5b-4411-831d-bdbe016d1008",
   "metadata": {},
   "outputs": [
    {
     "name": "stdout",
     "output_type": "stream",
     "text": [
      "[1, 8, 27, 64, 125, 216, 343, 512, 729, 1000]\n"
     ]
    }
   ],
   "source": [
    "\n",
    "# list comprehension\n",
    "cube = [i**3 for i in range(1,11)]\n",
    "print(cube)\n",
    "     "
   ]
  },
  {
   "cell_type": "markdown",
   "id": "b5f771f5-f3da-4053-b7cd-93d1a26b25d6",
   "metadata": {},
   "source": [
    "Check if a given number is even."
   ]
  },
  {
   "cell_type": "code",
   "execution_count": 10,
   "id": "7403a9f3-c222-47a9-b751-1d1c6b9ec79a",
   "metadata": {},
   "outputs": [
    {
     "name": "stdin",
     "output_type": "stream",
     "text": [
      "Enter number 44518\n"
     ]
    },
    {
     "name": "stdout",
     "output_type": "stream",
     "text": [
      "True\n"
     ]
    }
   ],
   "source": [
    "# lambda function\n",
    "even = lambda x : True if x%2==0 else False\n",
    "n = int(input(\"Enter number\"))\n",
    "print(even(n))"
   ]
  },
  {
   "cell_type": "markdown",
   "id": "fff9f8d8-90d0-4d44-be9c-3b132863668e",
   "metadata": {},
   "source": [
    "Filter odd numbers from the given list. [1,2,3,4,5,6,7,8,9,10]"
   ]
  },
  {
   "cell_type": "code",
   "execution_count": 11,
   "id": "06685843-cabf-45a5-86e2-e5fb3bf18b7b",
   "metadata": {},
   "outputs": [
    {
     "name": "stdout",
     "output_type": "stream",
     "text": [
      "<filter object at 0x7f3208442ef0>\n",
      "[1, 3, 5, 7, 9]\n"
     ]
    }
   ],
   "source": [
    "\n",
    "#filter() function\n",
    "\n",
    "def fun(x):\n",
    "  if x%2!=0:\n",
    "    return True\n",
    "  else:\n",
    "    return False\n",
    "\n",
    "lst = [1,2,3,4,5,6,7,8,9,10]\n",
    "odd = filter(fun,lst)\n",
    "print(odd)\n",
    "print(list(odd))"
   ]
  },
  {
   "cell_type": "markdown",
   "id": "20d1bf8b-ad21-43c4-b8e6-c494088340cf",
   "metadata": {},
   "source": [
    "Sort a list of integers into positive and negative integers lists. [1,2,3,4,5,6,-1,-2,-3,-4,-5,0]"
   ]
  },
  {
   "cell_type": "code",
   "execution_count": 12,
   "id": "69b58b14-fed9-4e31-9238-129743225e53",
   "metadata": {},
   "outputs": [
    {
     "name": "stdout",
     "output_type": "stream",
     "text": [
      "[1, 2, 3, 4, 5, 6, 0]\n",
      "[-1, -2, -3, -4, -5]\n"
     ]
    }
   ],
   "source": [
    "\n",
    "# filter() function\n",
    "lst = [1,2,3,4,5,6,-1,-2,-3,-4,-5,0]\n",
    "positive = list(filter(lambda x: x >= 0, lst))\n",
    "negative = list(filter(lambda x: x < 0, lst))\n",
    "\n",
    "print(positive)\n",
    "print(negative)"
   ]
  },
  {
   "cell_type": "code",
   "execution_count": null,
   "id": "54ffdd42-c292-4335-89d5-2d4ea4f1d0a6",
   "metadata": {},
   "outputs": [],
   "source": []
  }
 ],
 "metadata": {
  "kernelspec": {
   "display_name": "Python 3 (ipykernel)",
   "language": "python",
   "name": "python3"
  },
  "language_info": {
   "codemirror_mode": {
    "name": "ipython",
    "version": 3
   },
   "file_extension": ".py",
   "mimetype": "text/x-python",
   "name": "python",
   "nbconvert_exporter": "python",
   "pygments_lexer": "ipython3",
   "version": "3.10.8"
  }
 },
 "nbformat": 4,
 "nbformat_minor": 5
}
