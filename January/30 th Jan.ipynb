{
 "cells": [
  {
   "cell_type": "code",
   "execution_count": 2,
   "id": "fdf5d246-1352-4dab-b965-ead086981fc9",
   "metadata": {},
   "outputs": [
    {
     "name": "stdin",
     "output_type": "stream",
     "text": [
      "Enter your Mark :  45\n"
     ]
    },
    {
     "name": "stdout",
     "output_type": "stream",
     "text": [
      "Your Grade is D\n"
     ]
    }
   ],
   "source": [
    "per = int(input(\"Enter your Mark : \" ))\n",
    "if per > 90 :\n",
    "          print(\"Your Grade is A\")\n",
    "elif per > 80 and per <= 90 :\n",
    "          print(\"Your Grade is B\")\n",
    "elif per >= 60 and per <= 80 :\n",
    "          print(\"Your Grade is C\")\n",
    "else :\n",
    "          print(\"Your Grade is D\")"
   ]
  },
  {
   "cell_type": "code",
   "execution_count": 4,
   "id": "6aff0a1f-4c6a-443f-a78f-48d7fa768066",
   "metadata": {},
   "outputs": [
    {
     "name": "stdin",
     "output_type": "stream",
     "text": [
      "Enter cost price of your bike : 5555\n"
     ]
    },
    {
     "name": "stdout",
     "output_type": "stream",
     "text": [
      "your tax is 5 % \n"
     ]
    }
   ],
   "source": [
    "c_p = int(input(\"Enter cost price of your bike :\" ))\n",
    "if(c_p > 100000):\n",
    "          print(\"your tax is 15 % \")\n",
    "elif(c_p > 50000 and c_p <= 100000):\n",
    "          print(\"your tax is 15 % \")\n",
    "elif(c_p <= 50000):\n",
    "          print(\"your tax is 5 % \")"
   ]
  },
  {
   "cell_type": "code",
   "execution_count": 5,
   "id": "0ac537cb-3da1-488d-8e4b-d43803839ade",
   "metadata": {},
   "outputs": [
    {
     "name": "stdin",
     "output_type": "stream",
     "text": [
      "Enter your city :  Jaipur\n"
     ]
    },
    {
     "name": "stdout",
     "output_type": "stream",
     "text": [
      "Your monument is Jal Mahal \n"
     ]
    }
   ],
   "source": [
    "city = input(\"Enter your city : \")\n",
    "if(city == \"Delhi\"):\n",
    "    print(\"Your monument is Red Fort \")\n",
    "elif(city == \"Agra\"):\n",
    "    print(\"Your monument is Taj Mahal \")\n",
    "elif(city == \"Jaipur\"):\n",
    "    print(\"Your monument is Jal Mahal \")"
   ]
  },
  {
   "cell_type": "code",
   "execution_count": 6,
   "id": "7f331be3-fc47-46d0-8662-f606145b189d",
   "metadata": {},
   "outputs": [
    {
     "name": "stdin",
     "output_type": "stream",
     "text": [
      "Enter the number : 100\n"
     ]
    },
    {
     "name": "stdout",
     "output_type": "stream",
     "text": [
      "3\n"
     ]
    }
   ],
   "source": [
    "num = int(input(\"Enter the number :\" ))\n",
    "count = 0\n",
    "while(num >= 10):\n",
    "    num = num/3\n",
    "    count += 1\n",
    "print(count)"
   ]
  },
  {
   "cell_type": "code",
   "execution_count": 7,
   "id": "7409ac81-aaea-4f2c-87d6-33edc498d023",
   "metadata": {},
   "outputs": [
    {
     "data": {
      "text/plain": [
       "' 5. A while loop in python is used to repedaitly executed as long as the condition is true .\\nonce condition is becomes false , the loop will terminate and the program will continue to execute next line of code after the loop .\\nwhile condition :\\n    # code  to be executed '"
      ]
     },
     "execution_count": 7,
     "metadata": {},
     "output_type": "execute_result"
    }
   ],
   "source": [
    "''' 5. A while loop in python is used to repedaitly executed as long as the condition is true .\n",
    "once condition is becomes false , the loop will terminate and the program will continue to execute next line of code after the loop .\n",
    "while condition :\n",
    "    # code  to be executed '''"
   ]
  },
  {
   "cell_type": "code",
   "execution_count": 8,
   "id": "dd300fa4-a5ab-4694-a757-943aa1889208",
   "metadata": {},
   "outputs": [
    {
     "name": "stdout",
     "output_type": "stream",
     "text": [
      "First pattern\n",
      "* \n",
      "** \n",
      "*** \n",
      "**** \n",
      "***** \n",
      "\n",
      "Second pattern\n",
      "***** \n",
      "**** \n",
      "*** \n",
      "** \n",
      "* \n",
      "\n",
      "Third Pattern\n",
      "    *\n",
      "   ***\n",
      "  *****\n",
      " *******\n",
      "*********\n",
      " *******\n",
      "  *****\n",
      "   ***\n",
      "    *\n"
     ]
    }
   ],
   "source": [
    "print(\"Ques 7\")\n",
    "# 6. \n",
    "# 1. pattern \n",
    "print(\"First pattern\")\n",
    "i=1\n",
    "while(i<=5):\n",
    "    j=1\n",
    "    while j<=i:\n",
    "        print(\"*\" , end=\"\")\n",
    "        j+=1\n",
    "    print(\" \")\n",
    "    i+=1\n",
    "    \n",
    "# 2. pattern \n",
    "print(\"\")\n",
    "print(\"Second pattern\")\n",
    "i=5\n",
    "while(i>=1):\n",
    "    j=1\n",
    "    while j<=i:\n",
    "        print(\"*\" , end=\"\")\n",
    "        j+=1\n",
    "    print(\" \")\n",
    "    i-=1\n",
    "# 3. pattern\n",
    "print(\"\")\n",
    "print(\"Third Pattern\")\n",
    "i = 1\n",
    "while i <= 5:\n",
    "    j = 1\n",
    "    while j <= 5 - i:\n",
    "        print(\" \", end=\"\")\n",
    "        j += 1\n",
    "    k = 1\n",
    "    while k <= 2 * i - 1:\n",
    "        print(\"*\", end=\"\")\n",
    "        k += 1\n",
    "    print(\"\")\n",
    "    i += 1\n",
    "\n",
    "i = 4\n",
    "while i >= 1:\n",
    "    j = 1\n",
    "    while j <= 5 - i:\n",
    "        print(\" \", end=\"\")\n",
    "        j += 1\n",
    "    k = 1\n",
    "    while k <= 2 * i - 1:\n",
    "        print(\"*\", end=\"\")\n",
    "        k += 1\n",
    "    print(\"\")\n",
    "    i -= 1\n"
   ]
  },
  {
   "cell_type": "code",
   "execution_count": 12,
   "id": "8c104c25-7bcc-40a2-8d90-975be1cc7b3c",
   "metadata": {},
   "outputs": [
    {
     "name": "stdout",
     "output_type": "stream",
     "text": [
      "Ques 7\n",
      "10\n",
      "9\n",
      "8\n",
      "7\n",
      "6\n",
      "5\n",
      "4\n",
      "3\n",
      "2\n",
      "1\n"
     ]
    }
   ],
   "source": [
    "print(\"Ques 7\")\n",
    "i = 10\n",
    "while i > 0:\n",
    "    print(i)\n",
    "    i = i - 1"
   ]
  },
  {
   "cell_type": "code",
   "execution_count": 13,
   "id": "616f7e9b-5d94-4235-bd89-7bc0a22b69e0",
   "metadata": {},
   "outputs": [
    {
     "name": "stdout",
     "output_type": "stream",
     "text": [
      "Ques 8\n",
      "10\n",
      "9\n",
      "8\n",
      "7\n",
      "6\n",
      "5\n",
      "4\n",
      "3\n",
      "2\n",
      "1\n"
     ]
    }
   ],
   "source": [
    "print(\"Ques 8\")\n",
    "i = 10\n",
    "while i > 0:\n",
    "    print(i)\n",
    "    i = i - 1"
   ]
  },
  {
   "cell_type": "code",
   "execution_count": null,
   "id": "f94d0dd2-1552-481b-8596-e03644a3efdc",
   "metadata": {},
   "outputs": [],
   "source": []
  }
 ],
 "metadata": {
  "kernelspec": {
   "display_name": "Python 3 (ipykernel)",
   "language": "python",
   "name": "python3"
  },
  "language_info": {
   "codemirror_mode": {
    "name": "ipython",
    "version": 3
   },
   "file_extension": ".py",
   "mimetype": "text/x-python",
   "name": "python",
   "nbconvert_exporter": "python",
   "pygments_lexer": "ipython3",
   "version": "3.10.8"
  }
 },
 "nbformat": 4,
 "nbformat_minor": 5
}
